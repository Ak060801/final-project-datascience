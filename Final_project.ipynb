{
  "metadata": {
    "kernelspec": {
      "name": "xpython",
      "display_name": "Python 3.13 (XPython)",
      "language": "python"
    },
    "language_info": {
      "file_extension": ".py",
      "mimetype": "text/x-python",
      "name": "python",
      "version": "3.13.1"
    }
  },
  "nbformat_minor": 5,
  "nbformat": 4,
  "cells": [
    {
      "id": "54948b5e-b640-4a3b-8fca-56588b57956d",
      "cell_type": "markdown",
      "source": "# Data Science Tools and Ecosystem\n",
      "metadata": {}
    },
    {
      "id": "9814a380-8dbc-4f2c-88c9-672e7e4fb6e5",
      "cell_type": "markdown",
      "source": "## Introduction\n\nIn this notebook, Data Science tools and techniques are summarized.  \nIt includes a list of popular languages, libraries, and tools used by data scientists, as well as examples of arithmetic operations.\n",
      "metadata": {}
    },
    {
      "id": "a3dd9a98-1404-43bf-ae8a-c1c7d6dd4095",
      "cell_type": "markdown",
      "source": "## Languages Used in Data Science\n\nSome of the popular languages used by data scientists include:\n\n1. Python  \n2. R  \n3. SQL  \n4. Julia  \n5. Scala  \n",
      "metadata": {}
    },
    {
      "id": "b213a07b-f044-41f5-ad13-62714547a9f2",
      "cell_type": "markdown",
      "source": "## Libraries Used in Data Science\n\nSome of the commonly used libraries in data science are:\n\n- Pandas  \n- NumPy  \n- Matplotlib  \n- Scikit-learn  \n- TensorFlow  \n",
      "metadata": {}
    },
    {
      "id": "5b35a3c3-5971-4b20-9264-d291815eb70d",
      "cell_type": "markdown",
      "source": "## Data Science Tools\n\n| Tool             | Category               |\n|------------------|------------------------|\n| Jupyter Notebook | Interactive IDE        |\n| RStudio          | IDE for R              |\n| Apache Spark     | Big Data Framework     |\n| Tableau          | Data Visualization     |\n| VS Code          | Code Editor            |\n",
      "metadata": {}
    },
    {
      "id": "5900e886-3a51-412c-a6db-4cb1f649e545",
      "cell_type": "markdown",
      "source": "### Below are a few examples of evaluating arithmetic expressions in Python.\n",
      "metadata": {}
    },
    {
      "id": "ec323199-2a0c-48e3-bdb7-8dd31c6d34ee",
      "cell_type": "code",
      "source": "# This expression multiplies 3 and 4, then adds 5\n(3 * 4) + 5\n",
      "metadata": {
        "trusted": true
      },
      "outputs": [
        {
          "execution_count": 6,
          "output_type": "execute_result",
          "data": {
            "text/plain": "17"
          },
          "metadata": {}
        }
      ],
      "execution_count": 6
    },
    {
      "id": "59c0a568-d012-4825-a8e2-f813d4fa02df",
      "cell_type": "code",
      "source": "# Convert minutes to hours\nminutes = 200\nhours = minutes / 60\nhours\n",
      "metadata": {
        "trusted": true
      },
      "outputs": [
        {
          "execution_count": 7,
          "output_type": "execute_result",
          "data": {
            "text/plain": "3.3333333333333335"
          },
          "metadata": {}
        }
      ],
      "execution_count": 7
    },
    {
      "id": "0241968c-0a57-4413-a81b-fc007a61d820",
      "cell_type": "markdown",
      "source": "## Objectives\n\n- List popular languages in Data Science  \n- List commonly used libraries in Data Science  \n- Create tables using markdown  \n- Perform arithmetic operations using Python  \n- Convert minutes to hours using Python  \n",
      "metadata": {}
    },
    {
      "id": "2e1ab245-d4c0-4aea-8363-69851e70c8b8",
      "cell_type": "markdown",
      "source": "**Author:** Mohd Ayaan Khan\n",
      "metadata": {}
    },
    {
      "id": "4142ca74-a2e7-4b54-949f-4313d6eac577",
      "cell_type": "code",
      "source": "",
      "metadata": {
        "trusted": true
      },
      "outputs": [],
      "execution_count": null
    }
  ]
}